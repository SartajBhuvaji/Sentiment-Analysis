{
 "cells": [
  {
   "cell_type": "code",
   "execution_count": 5,
   "metadata": {},
   "outputs": [],
   "source": [
    "import os\n",
    "import sys\n",
    "import json\n",
    "import emoji\n",
    "import requests\n",
    "import pandas as pd\n",
    "from dotenv import load_dotenv\n",
    "\n",
    "\n",
    "class SentimentAnalysis:\n",
    "    def __init__(self):\n",
    "        load_dotenv()\n",
    "        self.youtube_api_key = os.getenv(\"YOUTUBE_API_KEY\")\n",
    "        self.max_results = os.getenv(\"MAX_RESULTS\")\n",
    "        self.video_id = 'kffacxfA7G4'\n",
    "        self.url = f'https://www.googleapis.com/youtube/v3/commentThreads?key={self.youtube_api_key}&textFormat=plainText&part=snippet&videoId={self.video_id}&maxResults={self.max_results}'\n",
    "\n",
    "    def get_comments(self):\n",
    "        try:\n",
    "            response = requests.get(self.url)\n",
    "            self.data = response.json()\n",
    "        except Exception as e:\n",
    "            print(\"Failed to get comments from YouTube API\")\n",
    "\n",
    "\n",
    "    def clean_data(self):\n",
    "\n",
    "\n",
    "        text_display = []\n",
    "        like_count = []\n",
    "\n",
    "        for comment in self.data[\"items\"]:\n",
    "            snippet = comment[\"snippet\"][\"topLevelComment\"][\"snippet\"]\n",
    "            text = snippet[\"textDisplay\"]\n",
    "            #text = emoji.demojize(text)\n",
    "            text_display.append(text)\n",
    "            like_count.append(snippet[\"likeCount\"])\n",
    "\n",
    "        self.df = pd.DataFrame({'comment': text_display, 'likeCount': like_count})\n",
    "\n",
    "        # Separate emojis into a new column\n",
    "        def extract_emojis(text):\n",
    "            return emoji.demojize(text)\n",
    "\n",
    "        self.df['emojis'] = self.df['comment'].apply(extract_emojis)        \n",
    "        print(self.df.head())\n",
    "\n",
    "     \n",
    "\n"
   ]
  },
  {
   "cell_type": "code",
   "execution_count": 6,
   "metadata": {},
   "outputs": [
    {
     "name": "stdout",
     "output_type": "stream",
     "text": [
      "                                             comment  likeCount  \\\n",
      "0                                                 🎉🎉          0   \n",
      "1                                             Today?          0   \n",
      "2                                         @BRUNA\\n💞😙          1   \n",
      "3  I don't remember Justin sounding this young lo...          0   \n",
      "4  Very nice 😍😍😍\\nදැන් 2023\\nආදරේ තමයි අමුතු\\nආදර...          0   \n",
      "\n",
      "                                              emojis  \n",
      "0                       :party_popper::party_popper:  \n",
      "1                                             Today?  \n",
      "2  @BRUNA\\n:revolving_hearts::kissing_face_with_s...  \n",
      "3  I don't remember Justin sounding this young lo...  \n",
      "4  Very nice :smiling_face_with_heart-eyes::smili...  \n"
     ]
    }
   ],
   "source": [
    "if __name__ == '__main__':\n",
    "    sa = SentimentAnalysis()\n",
    "    sa.get_comments()\n",
    "    sa.clean_data()   "
   ]
  },
  {
   "cell_type": "code",
   "execution_count": 7,
   "metadata": {},
   "outputs": [
    {
     "ename": "NameError",
     "evalue": "name 'self' is not defined",
     "output_type": "error",
     "traceback": [
      "\u001b[1;31m---------------------------------------------------------------------------\u001b[0m",
      "\u001b[1;31mNameError\u001b[0m                                 Traceback (most recent call last)",
      "\u001b[1;32mc:\\Local Disk D\\Sentiment-Analysis\\te.ipynb Cell 3\u001b[0m line \u001b[0;36m1\n\u001b[1;32m----> <a href='vscode-notebook-cell:/c%3A/Local%20Disk%20D/Sentiment-Analysis/te.ipynb#W2sZmlsZQ%3D%3D?line=0'>1</a>\u001b[0m \u001b[39mself\u001b[39;49m\u001b[39m.\u001b[39mdf\u001b[39m.\u001b[39mhead()\n",
      "\u001b[1;31mNameError\u001b[0m: name 'self' is not defined"
     ]
    }
   ],
   "source": [
    "self.df.head()"
   ]
  },
  {
   "cell_type": "code",
   "execution_count": null,
   "metadata": {},
   "outputs": [],
   "source": []
  }
 ],
 "metadata": {
  "kernelspec": {
   "display_name": "Python 3",
   "language": "python",
   "name": "python3"
  },
  "language_info": {
   "codemirror_mode": {
    "name": "ipython",
    "version": 3
   },
   "file_extension": ".py",
   "mimetype": "text/x-python",
   "name": "python",
   "nbconvert_exporter": "python",
   "pygments_lexer": "ipython3",
   "version": "3.9.13"
  },
  "orig_nbformat": 4
 },
 "nbformat": 4,
 "nbformat_minor": 2
}
